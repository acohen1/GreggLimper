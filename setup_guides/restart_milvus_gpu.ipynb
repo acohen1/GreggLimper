{
 "cells": [
  {
   "cell_type": "markdown",
   "id": "7936fd2f",
   "metadata": {},
   "source": [
    "---\n",
    "# Shutting Down Milvus Safely\n",
    "\n",
    "When you are done using Milvus, always stop the container properly instead of just closing Ubuntu/WSL.\n",
    "\n",
    "```bash\n",
    "# Stop and remove containers, networks, and volumes defined in docker-compose.yml\n",
    "docker compose down\n",
    "```\n",
    "\n",
    "> ⚠️ Always stop Milvus before shutting down Ubuntu/WSL or Windows. This prevents dangling containers and resource leaks.\n"
   ]
  },
  {
   "cell_type": "markdown",
   "id": "246afe2d",
   "metadata": {},
   "source": [
    "---\n",
    "# Restarting Milvus GPU After Reboot (WSL2 + Docker)\n",
    "\n",
    "Follow these steps **after rebooting your PC** to bring Milvus GPU back online.\n",
    "\n",
    "---\n",
    "\n",
    "### 1. Start Docker Desktop (Windows)\n",
    "Make sure Docker Desktop is running.\n",
    "\n",
    "\n",
    "### 2. Open Ubuntu (WSL2)\n",
    "```bash\n",
    "wsl -d Ubuntu\n",
    "```\n",
    "\n",
    "\n",
    "### 3. Restart Milvus with Docker Compose\n",
    "Navigate to your Milvus directory (where `docker-compose.yml` lives):\n",
    "```bash\n",
    "cd ~/milvus\n",
    "docker compose up -d\n",
    "```\n",
    "\n",
    "\n",
    "### 4. Verify Milvus is Running\n",
    "Check logs:\n",
    "```bash\n",
    "docker ps\n",
    "docker logs -f milvus-standalone\n",
    "```\n",
    "\n",
    "You should see Milvus startup logs (not just `tini`).\n",
    "\n",
    "\n",
    "### 5. (Optional) Reconnect From Python\n",
    "```python\n",
    "from pymilvus import connections\n",
    "connections.connect(alias=\"default\", uri=\"http://127.0.0.1:19530\")\n",
    "```"
   ]
  }
 ],
 "metadata": {
  "kernelspec": {
   "display_name": "Python 3",
   "language": "python",
   "name": "python3"
  },
  "language_info": {
   "name": "python",
   "version": "3.10"
  }
 },
 "nbformat": 4,
 "nbformat_minor": 5
}
