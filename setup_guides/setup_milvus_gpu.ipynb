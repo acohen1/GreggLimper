{
 "cells": [
  {
   "cell_type": "markdown",
   "id": "e29b7f24",
   "metadata": {},
   "source": [
    "\n",
    "# Milvus GPU on WSL2 — Complete Setup Guide\n",
    "\n",
    "This notebook provides a **clean, sequential setup** for running Milvus with GPU support on WSL2 using Docker Desktop.\n",
    "\n",
    "## Before you start\n",
    "\n",
    "Make sure the Windows host already has the following pieces in place:\n",
    "\n",
    "| Requirement | Why it matters | How to check |\n",
    "| --- | --- | --- |\n",
    "| Windows 11/10 with WSL2 enabled | WSL2 provides the Linux environment Milvus runs in. | Run `wsl --status` in PowerShell. |\n",
    "| Ubuntu 22.04 or 24.04 distro for WSL2 | Commands below assume an Ubuntu base image with systemd. | `wsl -l -v` shows distro name/version. |\n",
    "| Docker Desktop (WSL2 integration enabled) | Provides Docker engine + compose for launching Milvus. | Docker Desktop → Settings → Resources → WSL Integration. |\n",
    "| NVIDIA GPU with latest Windows driver | The Windows driver exposes GPU to WSL and containers. | `nvidia-smi` from a regular Command Prompt. |\n",
    "| CUDA-enabled WSL2 support packages | Required for GPU passthrough to Docker containers. | `nvidia-smi` inside WSL after Step 5. |\n",
    "\n",
    "If you are missing any prerequisite, address it first before moving on—this guide assumes those foundations exist.\n"
   ]
  },
  {
   "cell_type": "markdown",
   "id": "c7d007d5",
   "metadata": {},
   "source": [
    "\n",
    "## Step 0 — Confirm baseline (WSL2, systemd, Docker Desktop integration)\n",
    "\n",
    "From your Ubuntu WSL shell:\n",
    "\n",
    "```bash\n",
    "# Confirm WSL2 kernel\n",
    "uname -r\n",
    "cat /proc/version\n",
    "\n",
    "# Check if systemd is running (Ubuntu 22.04/24.04 on WSL2 usually has it)\n",
    "systemctl is-system-running || true\n",
    "\n",
    "# Ensure Docker CLI can reach daemon (daemon runs inside docker-desktop)\n",
    "docker version\n",
    "docker info | head -n 20\n",
    "```\n",
    "\n",
    "If `docker version` fails, open **Docker Desktop → Settings → Resources → WSL Integration** and check your Ubuntu distro.\n"
   ]
  },
  {
   "cell_type": "markdown",
   "id": "26b8ba86",
   "metadata": {},
   "source": [
    "\n",
    "## Step 1 — Prereqs (Ubuntu WSL)\n",
    "\n",
    "```bash\n",
    "sudo apt-get update\n",
    "sudo apt-get install -y curl gnupg ca-certificates\n",
    "```\n"
   ]
  },
  {
   "cell_type": "markdown",
   "id": "60fbe053",
   "metadata": {},
   "source": [
    "\n",
    "## Step 2 — Install NVIDIA repo GPG key (with `signed-by` keyring)\n",
    "\n",
    "These commands teach `apt` to trust the official NVIDIA container repository and define where its key lives:\n",
    "\n",
    "1. **Create a shared keyring folder** so multiple NVIDIA lists can reference the same key.\n",
    "2. **Download and convert the GPG key** into `/usr/share/keyrings/nvidia-container-toolkit-keyring.gpg`.\n",
    "3. **Relax permissions** so the `apt` process can read the keyring.\n",
    "4. **Install the repo list** that points to NVIDIA packages and tells `apt` to use the new keyring via `signed-by`.\n",
    "\n",
    "```bash\n",
    "sudo install -m 0755 -d /usr/share/keyrings\n",
    "\n",
    "curl -fsSL https://nvidia.github.io/libnvidia-container/gpgkey \\\n",
    "  | sudo gpg --dearmor -o /usr/share/keyrings/nvidia-container-toolkit-keyring.gpg\n",
    "\n",
    "sudo chmod 644 /usr/share/keyrings/nvidia-container-toolkit-keyring.gpg\n",
    "\n",
    "curl -s -L https://nvidia.github.io/libnvidia-container/stable/deb/nvidia-container-toolkit.list \\\n",
    "  | sed 's#deb https://#deb [signed-by=/usr/share/keyrings/nvidia-container-toolkit-keyring.gpg] https://#g' \\\n",
    "  | sudo tee /etc/apt/sources.list.d/nvidia-container-toolkit.list >/dev/null\n",
    "```\n"
   ]
  },
  {
   "cell_type": "markdown",
   "id": "5e487243",
   "metadata": {},
   "source": [
    "\n",
    "## Step 3 — Install NVIDIA Container Toolkit\n",
    "\n",
    "```bash\n",
    "sudo apt-get update\n",
    "sudo apt-get install -y nvidia-container-toolkit\n",
    "```\n"
   ]
  },
  {
   "cell_type": "markdown",
   "id": "03422004",
   "metadata": {},
   "source": [
    "\n",
    "## Step 4 — Configure Docker runtime & restart Docker Desktop\n",
    "\n",
    "```bash\n",
    "# Write default-runtime=nvidia into /etc/docker/daemon.json (Ubuntu side)\n",
    "sudo nvidia-ctk runtime configure --runtime=docker --set-as-default\n",
    "\n",
    "# Restart Docker Desktop daemon (lives in docker-desktop distro):\n",
    "# Option A: Right-click Docker Desktop icon → Restart\n",
    "# Option B: CLI — shut down all distros and re-open Docker Desktop\n",
    "wsl --shutdown\n",
    "```\n",
    "\n",
    "> On Docker Desktop, `docker info` may still show `Default Runtime: runc`.  \n",
    "> If you want `nvidia` to be global default, open **Docker Desktop → Settings → Docker Engine** and merge:\n",
    "> ```json\n",
    "> {\n",
    ">   \"default-runtime\": \"nvidia\",\n",
    ">   \"runtimes\": {\n",
    ">     \"nvidia\": { \"path\": \"nvidia-container-runtime\", \"args\": [] }\n",
    ">   }\n",
    "> }\n",
    "> ```\n",
    "> then click **Apply & Restart**.\n"
   ]
  },
  {
   "cell_type": "markdown",
   "id": "5b713b76",
   "metadata": {},
   "source": [
    "\n",
    "## Step 5 — Verify GPU access inside container\n",
    "\n",
    "Run CUDA base image and check `nvidia-smi`:\n",
    "\n",
    "```bash\n",
    "docker run --rm --gpus all nvidia/cuda:12.5.1-base-ubuntu24.04 nvidia-smi\n",
    "```\n",
    "\n",
    "Expected: RTX GPU details, driver version, CUDA version, and `No running processes found`.\n"
   ]
  },
  {
   "cell_type": "markdown",
   "id": "4d016ccb",
   "metadata": {},
   "source": [
    "\n",
    "## Step 6 — Deploy Milvus Standalone (GPU) via official compose file\n",
    "\n",
    "Create working folder and download the GPU compose file:\n",
    "\n",
    "```bash\n",
    "mkdir -p ~/milvus && cd ~/milvus\n",
    "wget https://github.com/milvus-io/milvus/releases/download/v2.6.0/milvus-standalone-docker-compose-gpu.yml -O docker-compose.yml\n",
    "```\n",
    "\n",
    "Bring Milvus up:\n",
    "\n",
    "```bash\n",
    "docker compose up -d\n",
    "docker compose ps\n",
    "```\n",
    "\n",
    "Tail logs to confirm full Milvus startup (not just `tini`):\n",
    "\n",
    "```bash\n",
    "docker logs -f milvus-standalone\n",
    "```\n",
    "\n",
    "WebUI (optional):\n",
    "```\n",
    "http://127.0.0.1:9091/webui/\n",
    "```\n",
    "\n",
    "> If you only see `tini` repeatedly, you’re using the wrong compose file. Use the official one above.\n"
   ]
  },
  {
   "cell_type": "markdown",
   "id": "6779a4bf",
   "metadata": {},
   "source": [
    "\n",
    "## Step 7 — Python client quick test (`pymilvus`)\n",
    "\n",
    "Install the client in your venv:\n",
    "\n",
    "```bash\n",
    "pip install pymilvus\n",
    "```\n",
    "\n",
    "Connect and print server version:\n",
    "\n",
    "```python\n",
    "from pymilvus import connections, utility\n",
    "connections.connect(host=\"127.0.0.1\", port=\"19530\")\n",
    "print(\"Connected to Milvus:\", utility.get_server_version())\n",
    "```\n",
    "\n",
    "If you see a version string, your GPU Milvus instance is running and reachable 🎉\n"
   ]
  },
  {
   "cell_type": "markdown",
   "id": "48c5dcd1",
   "metadata": {},
   "source": [
    "\n",
    "## Troubleshooting\n",
    "\n",
    "- **NO_PUBKEY DDCAE044F796ECB0** → Re-run Step 2 exactly (keyring + signed-by).\n",
    "- **Unit docker.service not found** in Ubuntu → Normal on Docker Desktop. Restart via Docker Desktop or `wsl --shutdown`.\n",
    "- **Default Runtime shows runc** → Normal; GPU still works. Set default in Docker Desktop’s Engine JSON if desired.\n",
    "- **nvidia-smi fails inside container** → Update Windows NVIDIA driver, ensure Docker Desktop → WSL Integration is enabled, re-run Step 5.\n"
   ]
  }
 ],
 "metadata": {
  "language_info": {
   "name": "python"
  }
 },
 "nbformat": 4,
 "nbformat_minor": 5
}
